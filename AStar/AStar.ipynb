{
 "cells": [
  {
   "cell_type": "markdown",
   "id": "03c93cc6-6d14-49c6-af7e-a243ec1592c3",
   "metadata": {},
   "source": []
  },
  {
   "cell_type": "markdown",
   "id": "9ae701b2-1b85-4248-82e0-defa92d15b37",
   "metadata": {},
   "source": []
  },
  {
   "cell_type": "markdown",
   "id": "9b65d915-323d-4a3a-b42c-4a00161f0dae",
   "metadata": {},
   "source": []
  },
  {
   "cell_type": "code",
   "execution_count": null,
   "id": "e7f6a8ed-0351-45c0-b1e2-43bdec59520b",
   "metadata": {},
   "outputs": [],
   "source": [
    " "
   ]
  }
 ],
 "metadata": {
  "kernelspec": {
   "display_name": "Python 3 (ipykernel)",
   "language": "python",
   "name": "python3"
  },
  "language_info": {
   "codemirror_mode": {
    "name": "ipython",
    "version": 3
   },
   "file_extension": ".py",
   "mimetype": "text/x-python",
   "name": "python",
   "nbconvert_exporter": "python",
   "pygments_lexer": "ipython3",
   "version": "3.9.13"
  }
 },
 "nbformat": 4,
 "nbformat_minor": 5
}
